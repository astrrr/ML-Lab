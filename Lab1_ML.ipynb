{
  "nbformat": 4,
  "nbformat_minor": 0,
  "metadata": {
    "colab": {
      "name": "Lab1 ML.ipynb",
      "provenance": [],
      "collapsed_sections": [],
      "mount_file_id": "1sEtL7E8Jn_qcKQJMYJvlYiADLUec0xAm",
      "authorship_tag": "ABX9TyMvZbMYCuCmy0nHQnk0q6N0",
      "include_colab_link": true
    },
    "kernelspec": {
      "name": "python3",
      "display_name": "Python 3"
    },
    "language_info": {
      "name": "python"
    }
  },
  "cells": [
    {
      "cell_type": "markdown",
      "metadata": {
        "id": "view-in-github",
        "colab_type": "text"
      },
      "source": [
        "<a href=\"https://colab.research.google.com/github/astrrr/ML-Lab/blob/main/Lab1_ML.ipynb\" target=\"_parent\"><img src=\"https://colab.research.google.com/assets/colab-badge.svg\" alt=\"Open In Colab\"/></a>"
      ]
    },
    {
      "cell_type": "code",
      "execution_count": 201,
      "metadata": {
        "id": "57LF-I1KZAQq"
      },
      "outputs": [],
      "source": [
        "import numpy as np\n",
        "import pandas as pd\n",
        "import matplotlib.pyplot as plt\n",
        "import seaborn as sns\n",
        "from sklearn import preprocessing"
      ]
    },
    {
      "cell_type": "markdown",
      "source": [
        "**1.1: Data Exploration & Data Cleaning**"
      ],
      "metadata": {
        "id": "Frs9tLC6Zm7t"
      }
    },
    {
      "cell_type": "markdown",
      "source": [
        "\n",
        "\n",
        "1.   read csv\n",
        "\n",
        "\n"
      ],
      "metadata": {
        "id": "xNYGZSVEbF6r"
      }
    },
    {
      "cell_type": "code",
      "source": [
        "df = pd.read_csv('/content/drive/MyDrive/ML/Lab1/Data_example.csv',encoding='latin-1')"
      ],
      "metadata": {
        "id": "psVtGdhCZv7T"
      },
      "execution_count": 202,
      "outputs": []
    },
    {
      "cell_type": "markdown",
      "source": [
        "\n",
        "\n",
        "2.   View Data Array Shape\n",
        "\n"
      ],
      "metadata": {
        "id": "FxjCrayDbUci"
      }
    },
    {
      "cell_type": "code",
      "source": [
        "df"
      ],
      "metadata": {
        "colab": {
          "base_uri": "https://localhost:8080/",
          "height": 676
        },
        "id": "ZA7WSg0mbdZt",
        "outputId": "377cc705-290c-4220-8dbf-35f248877b61"
      },
      "execution_count": 203,
      "outputs": [
        {
          "output_type": "execute_result",
          "data": {
            "text/html": [
              "\n",
              "  <div id=\"df-fd08506b-a1a5-4eac-8296-cf883db4eeec\">\n",
              "    <div class=\"colab-df-container\">\n",
              "      <div>\n",
              "<style scoped>\n",
              "    .dataframe tbody tr th:only-of-type {\n",
              "        vertical-align: middle;\n",
              "    }\n",
              "\n",
              "    .dataframe tbody tr th {\n",
              "        vertical-align: top;\n",
              "    }\n",
              "\n",
              "    .dataframe thead th {\n",
              "        text-align: right;\n",
              "    }\n",
              "</style>\n",
              "<table border=\"1\" class=\"dataframe\">\n",
              "  <thead>\n",
              "    <tr style=\"text-align: right;\">\n",
              "      <th></th>\n",
              "      <th>X</th>\n",
              "      <th>Y</th>\n",
              "      <th>Z</th>\n",
              "    </tr>\n",
              "  </thead>\n",
              "  <tbody>\n",
              "    <tr>\n",
              "      <th>0</th>\n",
              "      <td>19</td>\n",
              "      <td>1927</td>\n",
              "      <td>cat</td>\n",
              "    </tr>\n",
              "    <tr>\n",
              "      <th>1</th>\n",
              "      <td>NaN</td>\n",
              "      <td>2300</td>\n",
              "      <td>dog</td>\n",
              "    </tr>\n",
              "    <tr>\n",
              "      <th>2</th>\n",
              "      <td>15</td>\n",
              "      <td>NaN</td>\n",
              "      <td>bird</td>\n",
              "    </tr>\n",
              "    <tr>\n",
              "      <th>3</th>\n",
              "      <td>16</td>\n",
              "      <td>5959</td>\n",
              "      <td>cat</td>\n",
              "    </tr>\n",
              "    <tr>\n",
              "      <th>4</th>\n",
              "      <td>16</td>\n",
              "      <td>AB</td>\n",
              "      <td>cat</td>\n",
              "    </tr>\n",
              "    <tr>\n",
              "      <th>5</th>\n",
              "      <td>NaN</td>\n",
              "      <td>4594</td>\n",
              "      <td>dog</td>\n",
              "    </tr>\n",
              "    <tr>\n",
              "      <th>6</th>\n",
              "      <td>19</td>\n",
              "      <td>1927</td>\n",
              "      <td>cat</td>\n",
              "    </tr>\n",
              "    <tr>\n",
              "      <th>7</th>\n",
              "      <td>20</td>\n",
              "      <td>2879</td>\n",
              "      <td>birdËÁÒ</td>\n",
              "    </tr>\n",
              "    <tr>\n",
              "      <th>8</th>\n",
              "      <td>21</td>\n",
              "      <td>NaN</td>\n",
              "      <td>NaN</td>\n",
              "    </tr>\n",
              "    <tr>\n",
              "      <th>9</th>\n",
              "      <td>0</td>\n",
              "      <td>4096</td>\n",
              "      <td>cat</td>\n",
              "    </tr>\n",
              "    <tr>\n",
              "      <th>10</th>\n",
              "      <td>A</td>\n",
              "      <td>6730</td>\n",
              "      <td>cat</td>\n",
              "    </tr>\n",
              "    <tr>\n",
              "      <th>11</th>\n",
              "      <td>25</td>\n",
              "      <td>0</td>\n",
              "      <td>bird</td>\n",
              "    </tr>\n",
              "    <tr>\n",
              "      <th>12</th>\n",
              "      <td>0</td>\n",
              "      <td>2792</td>\n",
              "      <td>dog</td>\n",
              "    </tr>\n",
              "    <tr>\n",
              "      <th>13</th>\n",
              "      <td>33</td>\n",
              "      <td>2575</td>\n",
              "      <td>dog¹¡</td>\n",
              "    </tr>\n",
              "    <tr>\n",
              "      <th>14</th>\n",
              "      <td>1000</td>\n",
              "      <td>4959</td>\n",
              "      <td>bird</td>\n",
              "    </tr>\n",
              "    <tr>\n",
              "      <th>15</th>\n",
              "      <td>19</td>\n",
              "      <td>1927</td>\n",
              "      <td>cat</td>\n",
              "    </tr>\n",
              "    <tr>\n",
              "      <th>16</th>\n",
              "      <td>36</td>\n",
              "      <td>4580</td>\n",
              "      <td>dog</td>\n",
              "    </tr>\n",
              "    <tr>\n",
              "      <th>17</th>\n",
              "      <td>40</td>\n",
              "      <td>5869</td>\n",
              "      <td>NaN</td>\n",
              "    </tr>\n",
              "    <tr>\n",
              "      <th>18</th>\n",
              "      <td>NaN</td>\n",
              "      <td>4178</td>\n",
              "      <td>dog</td>\n",
              "    </tr>\n",
              "    <tr>\n",
              "      <th>19</th>\n",
              "      <td>45</td>\n",
              "      <td>NaN</td>\n",
              "      <td>cat</td>\n",
              "    </tr>\n",
              "  </tbody>\n",
              "</table>\n",
              "</div>\n",
              "      <button class=\"colab-df-convert\" onclick=\"convertToInteractive('df-fd08506b-a1a5-4eac-8296-cf883db4eeec')\"\n",
              "              title=\"Convert this dataframe to an interactive table.\"\n",
              "              style=\"display:none;\">\n",
              "        \n",
              "  <svg xmlns=\"http://www.w3.org/2000/svg\" height=\"24px\"viewBox=\"0 0 24 24\"\n",
              "       width=\"24px\">\n",
              "    <path d=\"M0 0h24v24H0V0z\" fill=\"none\"/>\n",
              "    <path d=\"M18.56 5.44l.94 2.06.94-2.06 2.06-.94-2.06-.94-.94-2.06-.94 2.06-2.06.94zm-11 1L8.5 8.5l.94-2.06 2.06-.94-2.06-.94L8.5 2.5l-.94 2.06-2.06.94zm10 10l.94 2.06.94-2.06 2.06-.94-2.06-.94-.94-2.06-.94 2.06-2.06.94z\"/><path d=\"M17.41 7.96l-1.37-1.37c-.4-.4-.92-.59-1.43-.59-.52 0-1.04.2-1.43.59L10.3 9.45l-7.72 7.72c-.78.78-.78 2.05 0 2.83L4 21.41c.39.39.9.59 1.41.59.51 0 1.02-.2 1.41-.59l7.78-7.78 2.81-2.81c.8-.78.8-2.07 0-2.86zM5.41 20L4 18.59l7.72-7.72 1.47 1.35L5.41 20z\"/>\n",
              "  </svg>\n",
              "      </button>\n",
              "      \n",
              "  <style>\n",
              "    .colab-df-container {\n",
              "      display:flex;\n",
              "      flex-wrap:wrap;\n",
              "      gap: 12px;\n",
              "    }\n",
              "\n",
              "    .colab-df-convert {\n",
              "      background-color: #E8F0FE;\n",
              "      border: none;\n",
              "      border-radius: 50%;\n",
              "      cursor: pointer;\n",
              "      display: none;\n",
              "      fill: #1967D2;\n",
              "      height: 32px;\n",
              "      padding: 0 0 0 0;\n",
              "      width: 32px;\n",
              "    }\n",
              "\n",
              "    .colab-df-convert:hover {\n",
              "      background-color: #E2EBFA;\n",
              "      box-shadow: 0px 1px 2px rgba(60, 64, 67, 0.3), 0px 1px 3px 1px rgba(60, 64, 67, 0.15);\n",
              "      fill: #174EA6;\n",
              "    }\n",
              "\n",
              "    [theme=dark] .colab-df-convert {\n",
              "      background-color: #3B4455;\n",
              "      fill: #D2E3FC;\n",
              "    }\n",
              "\n",
              "    [theme=dark] .colab-df-convert:hover {\n",
              "      background-color: #434B5C;\n",
              "      box-shadow: 0px 1px 3px 1px rgba(0, 0, 0, 0.15);\n",
              "      filter: drop-shadow(0px 1px 2px rgba(0, 0, 0, 0.3));\n",
              "      fill: #FFFFFF;\n",
              "    }\n",
              "  </style>\n",
              "\n",
              "      <script>\n",
              "        const buttonEl =\n",
              "          document.querySelector('#df-fd08506b-a1a5-4eac-8296-cf883db4eeec button.colab-df-convert');\n",
              "        buttonEl.style.display =\n",
              "          google.colab.kernel.accessAllowed ? 'block' : 'none';\n",
              "\n",
              "        async function convertToInteractive(key) {\n",
              "          const element = document.querySelector('#df-fd08506b-a1a5-4eac-8296-cf883db4eeec');\n",
              "          const dataTable =\n",
              "            await google.colab.kernel.invokeFunction('convertToInteractive',\n",
              "                                                     [key], {});\n",
              "          if (!dataTable) return;\n",
              "\n",
              "          const docLinkHtml = 'Like what you see? Visit the ' +\n",
              "            '<a target=\"_blank\" href=https://colab.research.google.com/notebooks/data_table.ipynb>data table notebook</a>'\n",
              "            + ' to learn more about interactive tables.';\n",
              "          element.innerHTML = '';\n",
              "          dataTable['output_type'] = 'display_data';\n",
              "          await google.colab.output.renderOutput(dataTable, element);\n",
              "          const docLink = document.createElement('div');\n",
              "          docLink.innerHTML = docLinkHtml;\n",
              "          element.appendChild(docLink);\n",
              "        }\n",
              "      </script>\n",
              "    </div>\n",
              "  </div>\n",
              "  "
            ],
            "text/plain": [
              "       X     Y        Z\n",
              "0     19  1927      cat\n",
              "1    NaN  2300      dog\n",
              "2     15   NaN     bird\n",
              "3     16  5959      cat\n",
              "4     16    AB      cat\n",
              "5    NaN  4594      dog\n",
              "6     19  1927      cat\n",
              "7     20  2879  birdËÁÒ\n",
              "8     21   NaN      NaN\n",
              "9      0  4096      cat\n",
              "10     A  6730      cat\n",
              "11    25     0     bird\n",
              "12     0  2792      dog\n",
              "13    33  2575    dog¹¡\n",
              "14  1000  4959     bird\n",
              "15    19  1927      cat\n",
              "16    36  4580      dog\n",
              "17    40  5869      NaN\n",
              "18   NaN  4178      dog\n",
              "19    45   NaN      cat"
            ]
          },
          "metadata": {},
          "execution_count": 203
        }
      ]
    },
    {
      "cell_type": "markdown",
      "source": [
        "\n",
        "\n",
        "3.   View Variable info\n",
        "\n",
        "\n"
      ],
      "metadata": {
        "id": "QtGCBVjNbd7K"
      }
    },
    {
      "cell_type": "code",
      "source": [
        "df.info()"
      ],
      "metadata": {
        "colab": {
          "base_uri": "https://localhost:8080/"
        },
        "id": "cMLr3U_vbmTY",
        "outputId": "e5cf7e1c-1da4-4bd1-ffe4-f6c5dde61aef"
      },
      "execution_count": 204,
      "outputs": [
        {
          "output_type": "stream",
          "name": "stdout",
          "text": [
            "<class 'pandas.core.frame.DataFrame'>\n",
            "RangeIndex: 20 entries, 0 to 19\n",
            "Data columns (total 3 columns):\n",
            " #   Column  Non-Null Count  Dtype \n",
            "---  ------  --------------  ----- \n",
            " 0   X       17 non-null     object\n",
            " 1   Y       17 non-null     object\n",
            " 2   Z       18 non-null     object\n",
            "dtypes: object(3)\n",
            "memory usage: 608.0+ bytes\n"
          ]
        }
      ]
    },
    {
      "cell_type": "markdown",
      "source": [
        "\n",
        "\n",
        "4.   Correct Erors (delete non ASCII)\n",
        "\n",
        "\n"
      ],
      "metadata": {
        "id": "Sdhk6FazeaD2"
      }
    },
    {
      "cell_type": "code",
      "source": [
        "#df = df.convert_dtypes()"
      ],
      "metadata": {
        "id": "HRjtSZ8tppoB"
      },
      "execution_count": 205,
      "outputs": []
    },
    {
      "cell_type": "code",
      "source": [
        "df['Z'].astype('string')  #convert type to str\n",
        "# df['X'].astype('int64')   #convert type to int64\n",
        "# df['Y'].astype('float64') #convert type to float64"
      ],
      "metadata": {
        "colab": {
          "base_uri": "https://localhost:8080/"
        },
        "id": "mt8fGuczekVR",
        "outputId": "df6e2ddf-dad6-4b6d-c8d6-ca798888be70"
      },
      "execution_count": 206,
      "outputs": [
        {
          "output_type": "execute_result",
          "data": {
            "text/plain": [
              "0         cat\n",
              "1         dog\n",
              "2        bird\n",
              "3         cat\n",
              "4         cat\n",
              "5         dog\n",
              "6         cat\n",
              "7     birdËÁÒ\n",
              "8        <NA>\n",
              "9         cat\n",
              "10        cat\n",
              "11       bird\n",
              "12        dog\n",
              "13      dog¹¡\n",
              "14       bird\n",
              "15        cat\n",
              "16        dog\n",
              "17       <NA>\n",
              "18        dog\n",
              "19        cat\n",
              "Name: Z, dtype: string"
            ]
          },
          "metadata": {},
          "execution_count": 206
        }
      ]
    },
    {
      "cell_type": "code",
      "source": [
        "df['Z'].replace({r'[^\\x00-\\x7F]+':''}, regex=True, inplace=True)\n",
        "df['Z']"
      ],
      "metadata": {
        "colab": {
          "base_uri": "https://localhost:8080/"
        },
        "id": "l92AOGiHhOFS",
        "outputId": "5514e6dc-72a3-4746-c142-5700dc3a2e44"
      },
      "execution_count": 207,
      "outputs": [
        {
          "output_type": "execute_result",
          "data": {
            "text/plain": [
              "0      cat\n",
              "1      dog\n",
              "2     bird\n",
              "3      cat\n",
              "4      cat\n",
              "5      dog\n",
              "6      cat\n",
              "7     bird\n",
              "8      NaN\n",
              "9      cat\n",
              "10     cat\n",
              "11    bird\n",
              "12     dog\n",
              "13     dog\n",
              "14    bird\n",
              "15     cat\n",
              "16     dog\n",
              "17     NaN\n",
              "18     dog\n",
              "19     cat\n",
              "Name: Z, dtype: object"
            ]
          },
          "metadata": {},
          "execution_count": 207
        }
      ]
    },
    {
      "cell_type": "code",
      "source": [
        "df = df.convert_dtypes()\n",
        "df['X'] = pd.to_numeric(df['X'], errors='coerce')\n",
        "df['X']\n",
        "df['Y'] = pd.to_numeric(df['Y'], errors='coerce')\n",
        "df['Y']\n",
        "# df.info()\n",
        "\n",
        "df['X'].astype('Int64')\n",
        "\n",
        "\n",
        "  \n",
        "\n",
        "# x_medians = df['X'].median()\n",
        "# df['X'] = df['X'].fillna()"
      ],
      "metadata": {
        "colab": {
          "base_uri": "https://localhost:8080/"
        },
        "id": "pR-oe8FLikTd",
        "outputId": "0ee08fc4-d51a-4c3b-822e-2f182de7e820"
      },
      "execution_count": 208,
      "outputs": [
        {
          "output_type": "execute_result",
          "data": {
            "text/plain": [
              "0       19\n",
              "1     <NA>\n",
              "2       15\n",
              "3       16\n",
              "4       16\n",
              "5     <NA>\n",
              "6       19\n",
              "7       20\n",
              "8       21\n",
              "9        0\n",
              "10    <NA>\n",
              "11      25\n",
              "12       0\n",
              "13      33\n",
              "14    1000\n",
              "15      19\n",
              "16      36\n",
              "17      40\n",
              "18    <NA>\n",
              "19      45\n",
              "Name: X, dtype: Int64"
            ]
          },
          "metadata": {},
          "execution_count": 208
        }
      ]
    },
    {
      "cell_type": "code",
      "source": [
        "df.info()\n",
        "df['X'] = df['X'].astype('float64')"
      ],
      "metadata": {
        "colab": {
          "base_uri": "https://localhost:8080/"
        },
        "id": "k26R2rHsrenv",
        "outputId": "687e54d6-7630-4c55-bb2b-c7236c21cde2"
      },
      "execution_count": 209,
      "outputs": [
        {
          "output_type": "stream",
          "name": "stdout",
          "text": [
            "<class 'pandas.core.frame.DataFrame'>\n",
            "RangeIndex: 20 entries, 0 to 19\n",
            "Data columns (total 3 columns):\n",
            " #   Column  Non-Null Count  Dtype  \n",
            "---  ------  --------------  -----  \n",
            " 0   X       16 non-null     float64\n",
            " 1   Y       16 non-null     float64\n",
            " 2   Z       18 non-null     string \n",
            "dtypes: float64(2), string(1)\n",
            "memory usage: 608.0 bytes\n"
          ]
        }
      ]
    },
    {
      "cell_type": "code",
      "source": [
        "x_medians = df['X'].median()\n",
        "print(x_medians)\n",
        "df['X'].fillna(x_medians,inplace=True)"
      ],
      "metadata": {
        "colab": {
          "base_uri": "https://localhost:8080/"
        },
        "id": "JT2xcSXQqhmW",
        "outputId": "57c76cdf-152f-4404-bba6-49c5e244856f"
      },
      "execution_count": 210,
      "outputs": [
        {
          "output_type": "stream",
          "name": "stdout",
          "text": [
            "19.5\n"
          ]
        }
      ]
    },
    {
      "cell_type": "code",
      "source": [
        "df['X']"
      ],
      "metadata": {
        "colab": {
          "base_uri": "https://localhost:8080/"
        },
        "id": "wLyDze--r_my",
        "outputId": "5daa9d7e-f8a6-49cb-8bdf-3d6e5694c8cc"
      },
      "execution_count": 211,
      "outputs": [
        {
          "output_type": "execute_result",
          "data": {
            "text/plain": [
              "0       19.0\n",
              "1       19.5\n",
              "2       15.0\n",
              "3       16.0\n",
              "4       16.0\n",
              "5       19.5\n",
              "6       19.0\n",
              "7       20.0\n",
              "8       21.0\n",
              "9        0.0\n",
              "10      19.5\n",
              "11      25.0\n",
              "12       0.0\n",
              "13      33.0\n",
              "14    1000.0\n",
              "15      19.0\n",
              "16      36.0\n",
              "17      40.0\n",
              "18      19.5\n",
              "19      45.0\n",
              "Name: X, dtype: float64"
            ]
          },
          "metadata": {},
          "execution_count": 211
        }
      ]
    },
    {
      "cell_type": "code",
      "source": [
        "y_medians = df['Y'].median()\n",
        "print(y_medians)\n",
        "df['Y'].fillna(y_medians,inplace=True)"
      ],
      "metadata": {
        "colab": {
          "base_uri": "https://localhost:8080/"
        },
        "id": "1pTPMK7wsf7o",
        "outputId": "b5e56745-7926-4471-fc42-d065a0dcba20"
      },
      "execution_count": 212,
      "outputs": [
        {
          "output_type": "stream",
          "name": "stdout",
          "text": [
            "3487.5\n"
          ]
        }
      ]
    },
    {
      "cell_type": "code",
      "source": [
        "df['Y']"
      ],
      "metadata": {
        "colab": {
          "base_uri": "https://localhost:8080/"
        },
        "id": "QlwfpnQ4slIG",
        "outputId": "d81fb23a-e61c-428f-a301-36a6f1b9da9b"
      },
      "execution_count": 213,
      "outputs": [
        {
          "output_type": "execute_result",
          "data": {
            "text/plain": [
              "0     1927.0\n",
              "1     2300.0\n",
              "2     3487.5\n",
              "3     5959.0\n",
              "4     3487.5\n",
              "5     4594.0\n",
              "6     1927.0\n",
              "7     2879.0\n",
              "8     3487.5\n",
              "9     4096.0\n",
              "10    6730.0\n",
              "11       0.0\n",
              "12    2792.0\n",
              "13    2575.0\n",
              "14    4959.0\n",
              "15    1927.0\n",
              "16    4580.0\n",
              "17    5869.0\n",
              "18    4178.0\n",
              "19    3487.5\n",
              "Name: Y, dtype: float64"
            ]
          },
          "metadata": {},
          "execution_count": 213
        }
      ]
    },
    {
      "cell_type": "code",
      "source": [
        "df['Z']"
      ],
      "metadata": {
        "colab": {
          "base_uri": "https://localhost:8080/"
        },
        "id": "B8sGUESgswzh",
        "outputId": "54c51ef3-cc95-40d8-b17f-da1483c46cb3"
      },
      "execution_count": 214,
      "outputs": [
        {
          "output_type": "execute_result",
          "data": {
            "text/plain": [
              "0      cat\n",
              "1      dog\n",
              "2     bird\n",
              "3      cat\n",
              "4      cat\n",
              "5      dog\n",
              "6      cat\n",
              "7     bird\n",
              "8     <NA>\n",
              "9      cat\n",
              "10     cat\n",
              "11    bird\n",
              "12     dog\n",
              "13     dog\n",
              "14    bird\n",
              "15     cat\n",
              "16     dog\n",
              "17    <NA>\n",
              "18     dog\n",
              "19     cat\n",
              "Name: Z, dtype: string"
            ]
          },
          "metadata": {},
          "execution_count": 214
        }
      ]
    },
    {
      "cell_type": "code",
      "source": [
        "df['Z'].fillna(method='ffill',inplace=True)"
      ],
      "metadata": {
        "id": "oeA4HOxjtRfV"
      },
      "execution_count": 215,
      "outputs": []
    },
    {
      "cell_type": "code",
      "source": [
        "df['Z']"
      ],
      "metadata": {
        "colab": {
          "base_uri": "https://localhost:8080/"
        },
        "id": "hBCrQ23NtcBZ",
        "outputId": "86f9b932-5bdf-47e0-d20c-f03989e882c9"
      },
      "execution_count": 216,
      "outputs": [
        {
          "output_type": "execute_result",
          "data": {
            "text/plain": [
              "0      cat\n",
              "1      dog\n",
              "2     bird\n",
              "3      cat\n",
              "4      cat\n",
              "5      dog\n",
              "6      cat\n",
              "7     bird\n",
              "8     bird\n",
              "9      cat\n",
              "10     cat\n",
              "11    bird\n",
              "12     dog\n",
              "13     dog\n",
              "14    bird\n",
              "15     cat\n",
              "16     dog\n",
              "17     dog\n",
              "18     dog\n",
              "19     cat\n",
              "Name: Z, dtype: string"
            ]
          },
          "metadata": {},
          "execution_count": 216
        }
      ]
    },
    {
      "cell_type": "code",
      "source": [
        "df"
      ],
      "metadata": {
        "colab": {
          "base_uri": "https://localhost:8080/",
          "height": 676
        },
        "id": "kQ0hTlyrtgii",
        "outputId": "98898dab-e0cb-4ea3-8502-b54dd8737843"
      },
      "execution_count": 217,
      "outputs": [
        {
          "output_type": "execute_result",
          "data": {
            "text/html": [
              "\n",
              "  <div id=\"df-597479c2-4dcc-4430-b2fb-15b2ca2626d2\">\n",
              "    <div class=\"colab-df-container\">\n",
              "      <div>\n",
              "<style scoped>\n",
              "    .dataframe tbody tr th:only-of-type {\n",
              "        vertical-align: middle;\n",
              "    }\n",
              "\n",
              "    .dataframe tbody tr th {\n",
              "        vertical-align: top;\n",
              "    }\n",
              "\n",
              "    .dataframe thead th {\n",
              "        text-align: right;\n",
              "    }\n",
              "</style>\n",
              "<table border=\"1\" class=\"dataframe\">\n",
              "  <thead>\n",
              "    <tr style=\"text-align: right;\">\n",
              "      <th></th>\n",
              "      <th>X</th>\n",
              "      <th>Y</th>\n",
              "      <th>Z</th>\n",
              "    </tr>\n",
              "  </thead>\n",
              "  <tbody>\n",
              "    <tr>\n",
              "      <th>0</th>\n",
              "      <td>19.0</td>\n",
              "      <td>1927.0</td>\n",
              "      <td>cat</td>\n",
              "    </tr>\n",
              "    <tr>\n",
              "      <th>1</th>\n",
              "      <td>19.5</td>\n",
              "      <td>2300.0</td>\n",
              "      <td>dog</td>\n",
              "    </tr>\n",
              "    <tr>\n",
              "      <th>2</th>\n",
              "      <td>15.0</td>\n",
              "      <td>3487.5</td>\n",
              "      <td>bird</td>\n",
              "    </tr>\n",
              "    <tr>\n",
              "      <th>3</th>\n",
              "      <td>16.0</td>\n",
              "      <td>5959.0</td>\n",
              "      <td>cat</td>\n",
              "    </tr>\n",
              "    <tr>\n",
              "      <th>4</th>\n",
              "      <td>16.0</td>\n",
              "      <td>3487.5</td>\n",
              "      <td>cat</td>\n",
              "    </tr>\n",
              "    <tr>\n",
              "      <th>5</th>\n",
              "      <td>19.5</td>\n",
              "      <td>4594.0</td>\n",
              "      <td>dog</td>\n",
              "    </tr>\n",
              "    <tr>\n",
              "      <th>6</th>\n",
              "      <td>19.0</td>\n",
              "      <td>1927.0</td>\n",
              "      <td>cat</td>\n",
              "    </tr>\n",
              "    <tr>\n",
              "      <th>7</th>\n",
              "      <td>20.0</td>\n",
              "      <td>2879.0</td>\n",
              "      <td>bird</td>\n",
              "    </tr>\n",
              "    <tr>\n",
              "      <th>8</th>\n",
              "      <td>21.0</td>\n",
              "      <td>3487.5</td>\n",
              "      <td>bird</td>\n",
              "    </tr>\n",
              "    <tr>\n",
              "      <th>9</th>\n",
              "      <td>0.0</td>\n",
              "      <td>4096.0</td>\n",
              "      <td>cat</td>\n",
              "    </tr>\n",
              "    <tr>\n",
              "      <th>10</th>\n",
              "      <td>19.5</td>\n",
              "      <td>6730.0</td>\n",
              "      <td>cat</td>\n",
              "    </tr>\n",
              "    <tr>\n",
              "      <th>11</th>\n",
              "      <td>25.0</td>\n",
              "      <td>0.0</td>\n",
              "      <td>bird</td>\n",
              "    </tr>\n",
              "    <tr>\n",
              "      <th>12</th>\n",
              "      <td>0.0</td>\n",
              "      <td>2792.0</td>\n",
              "      <td>dog</td>\n",
              "    </tr>\n",
              "    <tr>\n",
              "      <th>13</th>\n",
              "      <td>33.0</td>\n",
              "      <td>2575.0</td>\n",
              "      <td>dog</td>\n",
              "    </tr>\n",
              "    <tr>\n",
              "      <th>14</th>\n",
              "      <td>1000.0</td>\n",
              "      <td>4959.0</td>\n",
              "      <td>bird</td>\n",
              "    </tr>\n",
              "    <tr>\n",
              "      <th>15</th>\n",
              "      <td>19.0</td>\n",
              "      <td>1927.0</td>\n",
              "      <td>cat</td>\n",
              "    </tr>\n",
              "    <tr>\n",
              "      <th>16</th>\n",
              "      <td>36.0</td>\n",
              "      <td>4580.0</td>\n",
              "      <td>dog</td>\n",
              "    </tr>\n",
              "    <tr>\n",
              "      <th>17</th>\n",
              "      <td>40.0</td>\n",
              "      <td>5869.0</td>\n",
              "      <td>dog</td>\n",
              "    </tr>\n",
              "    <tr>\n",
              "      <th>18</th>\n",
              "      <td>19.5</td>\n",
              "      <td>4178.0</td>\n",
              "      <td>dog</td>\n",
              "    </tr>\n",
              "    <tr>\n",
              "      <th>19</th>\n",
              "      <td>45.0</td>\n",
              "      <td>3487.5</td>\n",
              "      <td>cat</td>\n",
              "    </tr>\n",
              "  </tbody>\n",
              "</table>\n",
              "</div>\n",
              "      <button class=\"colab-df-convert\" onclick=\"convertToInteractive('df-597479c2-4dcc-4430-b2fb-15b2ca2626d2')\"\n",
              "              title=\"Convert this dataframe to an interactive table.\"\n",
              "              style=\"display:none;\">\n",
              "        \n",
              "  <svg xmlns=\"http://www.w3.org/2000/svg\" height=\"24px\"viewBox=\"0 0 24 24\"\n",
              "       width=\"24px\">\n",
              "    <path d=\"M0 0h24v24H0V0z\" fill=\"none\"/>\n",
              "    <path d=\"M18.56 5.44l.94 2.06.94-2.06 2.06-.94-2.06-.94-.94-2.06-.94 2.06-2.06.94zm-11 1L8.5 8.5l.94-2.06 2.06-.94-2.06-.94L8.5 2.5l-.94 2.06-2.06.94zm10 10l.94 2.06.94-2.06 2.06-.94-2.06-.94-.94-2.06-.94 2.06-2.06.94z\"/><path d=\"M17.41 7.96l-1.37-1.37c-.4-.4-.92-.59-1.43-.59-.52 0-1.04.2-1.43.59L10.3 9.45l-7.72 7.72c-.78.78-.78 2.05 0 2.83L4 21.41c.39.39.9.59 1.41.59.51 0 1.02-.2 1.41-.59l7.78-7.78 2.81-2.81c.8-.78.8-2.07 0-2.86zM5.41 20L4 18.59l7.72-7.72 1.47 1.35L5.41 20z\"/>\n",
              "  </svg>\n",
              "      </button>\n",
              "      \n",
              "  <style>\n",
              "    .colab-df-container {\n",
              "      display:flex;\n",
              "      flex-wrap:wrap;\n",
              "      gap: 12px;\n",
              "    }\n",
              "\n",
              "    .colab-df-convert {\n",
              "      background-color: #E8F0FE;\n",
              "      border: none;\n",
              "      border-radius: 50%;\n",
              "      cursor: pointer;\n",
              "      display: none;\n",
              "      fill: #1967D2;\n",
              "      height: 32px;\n",
              "      padding: 0 0 0 0;\n",
              "      width: 32px;\n",
              "    }\n",
              "\n",
              "    .colab-df-convert:hover {\n",
              "      background-color: #E2EBFA;\n",
              "      box-shadow: 0px 1px 2px rgba(60, 64, 67, 0.3), 0px 1px 3px 1px rgba(60, 64, 67, 0.15);\n",
              "      fill: #174EA6;\n",
              "    }\n",
              "\n",
              "    [theme=dark] .colab-df-convert {\n",
              "      background-color: #3B4455;\n",
              "      fill: #D2E3FC;\n",
              "    }\n",
              "\n",
              "    [theme=dark] .colab-df-convert:hover {\n",
              "      background-color: #434B5C;\n",
              "      box-shadow: 0px 1px 3px 1px rgba(0, 0, 0, 0.15);\n",
              "      filter: drop-shadow(0px 1px 2px rgba(0, 0, 0, 0.3));\n",
              "      fill: #FFFFFF;\n",
              "    }\n",
              "  </style>\n",
              "\n",
              "      <script>\n",
              "        const buttonEl =\n",
              "          document.querySelector('#df-597479c2-4dcc-4430-b2fb-15b2ca2626d2 button.colab-df-convert');\n",
              "        buttonEl.style.display =\n",
              "          google.colab.kernel.accessAllowed ? 'block' : 'none';\n",
              "\n",
              "        async function convertToInteractive(key) {\n",
              "          const element = document.querySelector('#df-597479c2-4dcc-4430-b2fb-15b2ca2626d2');\n",
              "          const dataTable =\n",
              "            await google.colab.kernel.invokeFunction('convertToInteractive',\n",
              "                                                     [key], {});\n",
              "          if (!dataTable) return;\n",
              "\n",
              "          const docLinkHtml = 'Like what you see? Visit the ' +\n",
              "            '<a target=\"_blank\" href=https://colab.research.google.com/notebooks/data_table.ipynb>data table notebook</a>'\n",
              "            + ' to learn more about interactive tables.';\n",
              "          element.innerHTML = '';\n",
              "          dataTable['output_type'] = 'display_data';\n",
              "          await google.colab.output.renderOutput(dataTable, element);\n",
              "          const docLink = document.createElement('div');\n",
              "          docLink.innerHTML = docLinkHtml;\n",
              "          element.appendChild(docLink);\n",
              "        }\n",
              "      </script>\n",
              "    </div>\n",
              "  </div>\n",
              "  "
            ],
            "text/plain": [
              "         X       Y     Z\n",
              "0     19.0  1927.0   cat\n",
              "1     19.5  2300.0   dog\n",
              "2     15.0  3487.5  bird\n",
              "3     16.0  5959.0   cat\n",
              "4     16.0  3487.5   cat\n",
              "5     19.5  4594.0   dog\n",
              "6     19.0  1927.0   cat\n",
              "7     20.0  2879.0  bird\n",
              "8     21.0  3487.5  bird\n",
              "9      0.0  4096.0   cat\n",
              "10    19.5  6730.0   cat\n",
              "11    25.0     0.0  bird\n",
              "12     0.0  2792.0   dog\n",
              "13    33.0  2575.0   dog\n",
              "14  1000.0  4959.0  bird\n",
              "15    19.0  1927.0   cat\n",
              "16    36.0  4580.0   dog\n",
              "17    40.0  5869.0   dog\n",
              "18    19.5  4178.0   dog\n",
              "19    45.0  3487.5   cat"
            ]
          },
          "metadata": {},
          "execution_count": 217
        }
      ]
    },
    {
      "cell_type": "markdown",
      "source": [
        "**1.2: Data Transform**"
      ],
      "metadata": {
        "id": "sOPuHvpfaTBP"
      }
    },
    {
      "cell_type": "code",
      "source": [
        "df['X'].shape"
      ],
      "metadata": {
        "colab": {
          "base_uri": "https://localhost:8080/"
        },
        "id": "wI6FUC-zzTC_",
        "outputId": "595c27be-7a74-4cb7-ded1-1b2c229101f1"
      },
      "execution_count": 218,
      "outputs": [
        {
          "output_type": "execute_result",
          "data": {
            "text/plain": [
              "(20,)"
            ]
          },
          "metadata": {},
          "execution_count": 218
        }
      ]
    },
    {
      "cell_type": "code",
      "source": [
        "new_arr = np.array(df['X'])\n",
        "new_arr = new_arr.reshape(-1,1)\n",
        "print(new_arr)"
      ],
      "metadata": {
        "colab": {
          "base_uri": "https://localhost:8080/"
        },
        "id": "_D0fmQfNz5jZ",
        "outputId": "0e5b01fe-8dc4-4d65-8a2f-985fdeff5e1b"
      },
      "execution_count": 219,
      "outputs": [
        {
          "output_type": "stream",
          "name": "stdout",
          "text": [
            "[[  19. ]\n",
            " [  19.5]\n",
            " [  15. ]\n",
            " [  16. ]\n",
            " [  16. ]\n",
            " [  19.5]\n",
            " [  19. ]\n",
            " [  20. ]\n",
            " [  21. ]\n",
            " [   0. ]\n",
            " [  19.5]\n",
            " [  25. ]\n",
            " [   0. ]\n",
            " [  33. ]\n",
            " [1000. ]\n",
            " [  19. ]\n",
            " [  36. ]\n",
            " [  40. ]\n",
            " [  19.5]\n",
            " [  45. ]]\n"
          ]
        }
      ]
    },
    {
      "cell_type": "code",
      "source": [
        "# x : MinMaxScaler()\n",
        "\n",
        "x_scaler = preprocessing.MinMaxScaler()\n",
        "df['X'] = x_scaler.fit_transform(new_arr)\n",
        "print(df['X'])"
      ],
      "metadata": {
        "colab": {
          "base_uri": "https://localhost:8080/"
        },
        "id": "nq0F6IzlaVwh",
        "outputId": "8c2b8c6a-61b3-4096-fb31-7d7c0a1a9b9c"
      },
      "execution_count": 220,
      "outputs": [
        {
          "output_type": "stream",
          "name": "stdout",
          "text": [
            "0     0.0190\n",
            "1     0.0195\n",
            "2     0.0150\n",
            "3     0.0160\n",
            "4     0.0160\n",
            "5     0.0195\n",
            "6     0.0190\n",
            "7     0.0200\n",
            "8     0.0210\n",
            "9     0.0000\n",
            "10    0.0195\n",
            "11    0.0250\n",
            "12    0.0000\n",
            "13    0.0330\n",
            "14    1.0000\n",
            "15    0.0190\n",
            "16    0.0360\n",
            "17    0.0400\n",
            "18    0.0195\n",
            "19    0.0450\n",
            "Name: X, dtype: float64\n"
          ]
        }
      ]
    },
    {
      "cell_type": "code",
      "source": [
        "sns.boxplot(df['X'])"
      ],
      "metadata": {
        "colab": {
          "base_uri": "https://localhost:8080/",
          "height": 351
        },
        "id": "BRFgkqdE3j-l",
        "outputId": "fd60c328-2cae-4234-d501-261a59142b90"
      },
      "execution_count": 221,
      "outputs": [
        {
          "output_type": "stream",
          "name": "stderr",
          "text": [
            "/usr/local/lib/python3.7/dist-packages/seaborn/_decorators.py:43: FutureWarning: Pass the following variable as a keyword arg: x. From version 0.12, the only valid positional argument will be `data`, and passing other arguments without an explicit keyword will result in an error or misinterpretation.\n",
            "  FutureWarning\n"
          ]
        },
        {
          "output_type": "execute_result",
          "data": {
            "text/plain": [
              "<matplotlib.axes._subplots.AxesSubplot at 0x7feff53b28d0>"
            ]
          },
          "metadata": {},
          "execution_count": 221
        },
        {
          "output_type": "display_data",
          "data": {
            "image/png": "[encoded data removed]",
            "text/plain": [
              "<Figure size 432x288 with 1 Axes>"
            ]
          },
          "metadata": {
            "needs_background": "light"
          }
        }
      ]
    },
    {
      "cell_type": "code",
      "source": [
        "# Y : Standard scaler\n",
        "df['Y'].shape"
      ],
      "metadata": {
        "colab": {
          "base_uri": "https://localhost:8080/"
        },
        "id": "fAef95fP1IPw",
        "outputId": "ca068b6f-49f4-450b-e3a0-2950a87ff98b"
      },
      "execution_count": 222,
      "outputs": [
        {
          "output_type": "execute_result",
          "data": {
            "text/plain": [
              "(20,)"
            ]
          },
          "metadata": {},
          "execution_count": 222
        }
      ]
    },
    {
      "cell_type": "code",
      "source": [
        "new_y_arr = np.array(df['Y'])\n",
        "new_y_arr = new_y_arr.reshape(-1,1)\n",
        "print(new_y_arr)"
      ],
      "metadata": {
        "colab": {
          "base_uri": "https://localhost:8080/"
        },
        "id": "WBJa6ZBQ103y",
        "outputId": "67dc292b-1475-4942-b3cb-5e850c519149"
      },
      "execution_count": 223,
      "outputs": [
        {
          "output_type": "stream",
          "name": "stdout",
          "text": [
            "[[1927. ]\n",
            " [2300. ]\n",
            " [3487.5]\n",
            " [5959. ]\n",
            " [3487.5]\n",
            " [4594. ]\n",
            " [1927. ]\n",
            " [2879. ]\n",
            " [3487.5]\n",
            " [4096. ]\n",
            " [6730. ]\n",
            " [   0. ]\n",
            " [2792. ]\n",
            " [2575. ]\n",
            " [4959. ]\n",
            " [1927. ]\n",
            " [4580. ]\n",
            " [5869. ]\n",
            " [4178. ]\n",
            " [3487.5]]\n"
          ]
        }
      ]
    },
    {
      "cell_type": "code",
      "source": [
        "y_scaler = preprocessing.StandardScaler()\n",
        "df['Y'] = y_scaler.fit_transform(new_y_arr)\n",
        "print(df['Y'])"
      ],
      "metadata": {
        "colab": {
          "base_uri": "https://localhost:8080/"
        },
        "id": "qg2YS_IO2BSP",
        "outputId": "b09bc982-a0b7-48aa-a727-aea2ee5a3297"
      },
      "execution_count": 224,
      "outputs": [
        {
          "output_type": "stream",
          "name": "stdout",
          "text": [
            "0    -1.032297\n",
            "1    -0.796808\n",
            "2    -0.047098\n",
            "3     1.513248\n",
            "4    -0.047098\n",
            "5     0.651475\n",
            "6    -1.032297\n",
            "7    -0.431265\n",
            "8    -0.047098\n",
            "9     0.337070\n",
            "10    2.000008\n",
            "11   -2.248880\n",
            "12   -0.486191\n",
            "13   -0.623191\n",
            "14    0.881912\n",
            "15   -1.032297\n",
            "16    0.642636\n",
            "17    1.456428\n",
            "18    0.388840\n",
            "19   -0.047098\n",
            "Name: Y, dtype: float64\n"
          ]
        }
      ]
    },
    {
      "cell_type": "code",
      "source": [
        "sns.boxplot(df['Y'])"
      ],
      "metadata": {
        "colab": {
          "base_uri": "https://localhost:8080/",
          "height": 351
        },
        "id": "qiEEKnHR3Ns_",
        "outputId": "b39bd6d3-eb9f-47d5-b03e-0b6a8c0b47ad"
      },
      "execution_count": 225,
      "outputs": [
        {
          "output_type": "stream",
          "name": "stderr",
          "text": [
            "/usr/local/lib/python3.7/dist-packages/seaborn/_decorators.py:43: FutureWarning: Pass the following variable as a keyword arg: x. From version 0.12, the only valid positional argument will be `data`, and passing other arguments without an explicit keyword will result in an error or misinterpretation.\n",
            "  FutureWarning\n"
          ]
        },
        {
          "output_type": "execute_result",
          "data": {
            "text/plain": [
              "<matplotlib.axes._subplots.AxesSubplot at 0x7feff5345610>"
            ]
          },
          "metadata": {},
          "execution_count": 225
        },
        {
          "output_type": "display_data",
          "data": {
            "image/png": "[encoded data removed]",
            "text/plain": [
              "<Figure size 432x288 with 1 Axes>"
            ]
          },
          "metadata": {
            "needs_background": "light"
          }
        }
      ]
    },
    {
      "cell_type": "markdown",
      "source": [
        "✈"
      ],
      "metadata": {
        "id": "lDcdH5hf58hc"
      }
    },
    {
      "cell_type": "markdown",
      "source": [
        "Remove outliner"
      ],
      "metadata": {
        "id": "vLABjoLK4r06"
      }
    },
    {
      "cell_type": "code",
      "source": [
        "#Q1, Q3, of X\n",
        "q1 = df['X'].quantile(0.25)\n",
        "q3 = df['X'].quantile(0.75)\n",
        "iqr = q3 - q1\n",
        "\n",
        "#Q1, Q3, of Y\n",
        "q1_y = df['Y'].quantile(0.25)\n",
        "q3_y = df['Y'].quantile(0.75)\n",
        "iqr_y = q3_y - q1_y"
      ],
      "metadata": {
        "id": "qdhosnmY4qrU"
      },
      "execution_count": 226,
      "outputs": []
    },
    {
      "cell_type": "code",
      "source": [
        "print(q1)\n",
        "print(q3)\n",
        "print(iqr)\n",
        "print('-----------')\n",
        "print(q1_y)\n",
        "print(q3_y)\n",
        "print(iqr_y)"
      ],
      "metadata": {
        "colab": {
          "base_uri": "https://localhost:8080/"
        },
        "id": "T-yM24H46PRb",
        "outputId": "fad3a3f6-91f6-43e0-e2e8-fdc8db0910a7"
      },
      "execution_count": 227,
      "outputs": [
        {
          "output_type": "stream",
          "name": "stdout",
          "text": [
            "0.01825\n",
            "0.027000000000000003\n",
            "0.008750000000000004\n",
            "-----------\n",
            "-0.6665955302457639\n",
            "0.6448460241445502\n",
            "1.311441554390314\n"
          ]
        }
      ]
    },
    {
      "cell_type": "code",
      "source": [
        "print((df['X'] < (q1 - 1.5 * iqr)) |(df['X'] > (q3 + 1.5 * iqr)))"
      ],
      "metadata": {
        "colab": {
          "base_uri": "https://localhost:8080/"
        },
        "id": "qeDt7b4S64Im",
        "outputId": "5747c66f-e975-4710-e8df-90f9a463b394"
      },
      "execution_count": 228,
      "outputs": [
        {
          "output_type": "stream",
          "name": "stdout",
          "text": [
            "0     False\n",
            "1     False\n",
            "2     False\n",
            "3     False\n",
            "4     False\n",
            "5     False\n",
            "6     False\n",
            "7     False\n",
            "8     False\n",
            "9      True\n",
            "10    False\n",
            "11    False\n",
            "12     True\n",
            "13    False\n",
            "14     True\n",
            "15    False\n",
            "16    False\n",
            "17    False\n",
            "18    False\n",
            "19     True\n",
            "Name: X, dtype: bool\n"
          ]
        }
      ]
    },
    {
      "cell_type": "code",
      "source": [
        "print((df['Y'] < (q1_y - 1.5 * iqr_y)) |(df['Y'] > (q3_y + 1.5 * iqr_y)))"
      ],
      "metadata": {
        "colab": {
          "base_uri": "https://localhost:8080/"
        },
        "id": "r32mglo1NlR2",
        "outputId": "f09e8f63-7111-4c94-cdce-0cf0f9ccef2d"
      },
      "execution_count": 229,
      "outputs": [
        {
          "output_type": "stream",
          "name": "stdout",
          "text": [
            "0     False\n",
            "1     False\n",
            "2     False\n",
            "3     False\n",
            "4     False\n",
            "5     False\n",
            "6     False\n",
            "7     False\n",
            "8     False\n",
            "9     False\n",
            "10    False\n",
            "11    False\n",
            "12    False\n",
            "13    False\n",
            "14    False\n",
            "15    False\n",
            "16    False\n",
            "17    False\n",
            "18    False\n",
            "19    False\n",
            "Name: Y, dtype: bool\n"
          ]
        }
      ]
    },
    {
      "cell_type": "code",
      "source": [
        "df['X']"
      ],
      "metadata": {
        "colab": {
          "base_uri": "https://localhost:8080/"
        },
        "id": "WOVwRKiL8O0j",
        "outputId": "254e0481-4337-410d-a259-a120b98718ae"
      },
      "execution_count": 230,
      "outputs": [
        {
          "output_type": "execute_result",
          "data": {
            "text/plain": [
              "0     0.0190\n",
              "1     0.0195\n",
              "2     0.0150\n",
              "3     0.0160\n",
              "4     0.0160\n",
              "5     0.0195\n",
              "6     0.0190\n",
              "7     0.0200\n",
              "8     0.0210\n",
              "9     0.0000\n",
              "10    0.0195\n",
              "11    0.0250\n",
              "12    0.0000\n",
              "13    0.0330\n",
              "14    1.0000\n",
              "15    0.0190\n",
              "16    0.0360\n",
              "17    0.0400\n",
              "18    0.0195\n",
              "19    0.0450\n",
              "Name: X, dtype: float64"
            ]
          },
          "metadata": {},
          "execution_count": 230
        }
      ]
    },
    {
      "cell_type": "code",
      "source": [
        "for i in range(len(df['X'])):\n",
        "  if (df['X'][i] < (q1 - 1.5 * iqr)) |(df['X'][i] > (q3 + 1.5 * iqr)):\n",
        "    df.drop(i,inplace=True)\n"
      ],
      "metadata": {
        "id": "K89WQgHt_k8L"
      },
      "execution_count": 231,
      "outputs": []
    },
    {
      "cell_type": "code",
      "source": [
        "df['X']"
      ],
      "metadata": {
        "colab": {
          "base_uri": "https://localhost:8080/"
        },
        "id": "DKpsWyktA4H4",
        "outputId": "35fc0b63-544c-49d9-abac-fcadeac48f52"
      },
      "execution_count": 232,
      "outputs": [
        {
          "output_type": "execute_result",
          "data": {
            "text/plain": [
              "0     0.0190\n",
              "1     0.0195\n",
              "2     0.0150\n",
              "3     0.0160\n",
              "4     0.0160\n",
              "5     0.0195\n",
              "6     0.0190\n",
              "7     0.0200\n",
              "8     0.0210\n",
              "10    0.0195\n",
              "11    0.0250\n",
              "13    0.0330\n",
              "15    0.0190\n",
              "16    0.0360\n",
              "17    0.0400\n",
              "18    0.0195\n",
              "Name: X, dtype: float64"
            ]
          },
          "metadata": {},
          "execution_count": 232
        }
      ]
    },
    {
      "cell_type": "code",
      "source": [
        "df.reset_index(drop=True, inplace=True)\n",
        "df.drop_duplicates(inplace=True)\n",
        "df['X']"
      ],
      "metadata": {
        "colab": {
          "base_uri": "https://localhost:8080/"
        },
        "id": "rulQNP2qKLZQ",
        "outputId": "fbcced6e-345c-4e05-80d0-9b07cdddbe8a"
      },
      "execution_count": 233,
      "outputs": [
        {
          "output_type": "execute_result",
          "data": {
            "text/plain": [
              "0     0.0190\n",
              "1     0.0195\n",
              "2     0.0150\n",
              "3     0.0160\n",
              "4     0.0160\n",
              "5     0.0195\n",
              "7     0.0200\n",
              "8     0.0210\n",
              "9     0.0195\n",
              "10    0.0250\n",
              "11    0.0330\n",
              "13    0.0360\n",
              "14    0.0400\n",
              "15    0.0195\n",
              "Name: X, dtype: float64"
            ]
          },
          "metadata": {},
          "execution_count": 233
        }
      ]
    },
    {
      "cell_type": "code",
      "source": [
        "new_arr = np.array(df['X'])\n",
        "new_arr = new_arr.reshape(-1,1)\n",
        "print(new_arr)\n",
        "x_scaler = preprocessing.MinMaxScaler()\n",
        "df['X'] = x_scaler.fit_transform(new_arr)\n",
        "print(df['X'])"
      ],
      "metadata": {
        "id": "GCrPy6shQJdP",
        "colab": {
          "base_uri": "https://localhost:8080/"
        },
        "outputId": "dc1fd019-b24b-4fa3-c007-9c3bf2c24bbc"
      },
      "execution_count": 234,
      "outputs": [
        {
          "output_type": "stream",
          "name": "stdout",
          "text": [
            "[[0.019 ]\n",
            " [0.0195]\n",
            " [0.015 ]\n",
            " [0.016 ]\n",
            " [0.016 ]\n",
            " [0.0195]\n",
            " [0.02  ]\n",
            " [0.021 ]\n",
            " [0.0195]\n",
            " [0.025 ]\n",
            " [0.033 ]\n",
            " [0.036 ]\n",
            " [0.04  ]\n",
            " [0.0195]]\n",
            "0     0.16\n",
            "1     0.18\n",
            "2     0.00\n",
            "3     0.04\n",
            "4     0.04\n",
            "5     0.18\n",
            "7     0.20\n",
            "8     0.24\n",
            "9     0.18\n",
            "10    0.40\n",
            "11    0.72\n",
            "13    0.84\n",
            "14    1.00\n",
            "15    0.18\n",
            "Name: X, dtype: float64\n"
          ]
        }
      ]
    },
    {
      "cell_type": "code",
      "source": [
        "sns.boxplot(df['X'])"
      ],
      "metadata": {
        "colab": {
          "base_uri": "https://localhost:8080/",
          "height": 351
        },
        "id": "ZIdTPPR7KZa5",
        "outputId": "08c41081-681e-4c73-de85-b5e318fcfc80"
      },
      "execution_count": 235,
      "outputs": [
        {
          "output_type": "stream",
          "name": "stderr",
          "text": [
            "/usr/local/lib/python3.7/dist-packages/seaborn/_decorators.py:43: FutureWarning: Pass the following variable as a keyword arg: x. From version 0.12, the only valid positional argument will be `data`, and passing other arguments without an explicit keyword will result in an error or misinterpretation.\n",
            "  FutureWarning\n"
          ]
        },
        {
          "output_type": "execute_result",
          "data": {
            "text/plain": [
              "<matplotlib.axes._subplots.AxesSubplot at 0x7feff52c0890>"
            ]
          },
          "metadata": {},
          "execution_count": 235
        },
        {
          "output_type": "display_data",
          "data": {
            "image/png": "[encoded data removed]",
            "text/plain": [
              "<Figure size 432x288 with 1 Axes>"
            ]
          },
          "metadata": {
            "needs_background": "light"
          }
        }
      ]
    },
    {
      "cell_type": "code",
      "source": [
        "#Q1, Q3, of Y\n",
        "q1_y = df['Y'].quantile(0.25)\n",
        "q3_y = df['Y'].quantile(0.75)\n",
        "iqr_y = q3_y - q1_y"
      ],
      "metadata": {
        "id": "iV-Cn7WILjO5"
      },
      "execution_count": 236,
      "outputs": []
    },
    {
      "cell_type": "code",
      "source": [
        "print(q1_y)\n",
        "print(q3_y)\n",
        "print(iqr_y)"
      ],
      "metadata": {
        "colab": {
          "base_uri": "https://localhost:8080/"
        },
        "id": "ua6FmSDTLrYz",
        "outputId": "7a487654-102f-4c4b-eea1-153860da2b25"
      },
      "execution_count": 237,
      "outputs": [
        {
          "output_type": "stream",
          "name": "stdout",
          "text": [
            "-0.5752097244939295\n",
            "0.64926537226381\n",
            "1.2244750967577396\n"
          ]
        }
      ]
    },
    {
      "cell_type": "code",
      "source": [
        "print((df['Y'] < (q1_y - 1.5 * iqr_y)) |(df['Y'] > (q3_y + 1.5 * iqr_y)))"
      ],
      "metadata": {
        "colab": {
          "base_uri": "https://localhost:8080/"
        },
        "id": "_i3aC_uiMDYF",
        "outputId": "56681c84-91ad-4ed5-d08a-b18b847ca14c"
      },
      "execution_count": 238,
      "outputs": [
        {
          "output_type": "stream",
          "name": "stdout",
          "text": [
            "0     False\n",
            "1     False\n",
            "2     False\n",
            "3     False\n",
            "4     False\n",
            "5     False\n",
            "7     False\n",
            "8     False\n",
            "9     False\n",
            "10    False\n",
            "11    False\n",
            "13    False\n",
            "14    False\n",
            "15    False\n",
            "Name: Y, dtype: bool\n"
          ]
        }
      ]
    },
    {
      "cell_type": "code",
      "source": [
        "new_y_arr = np.array(df['Y'])\n",
        "new_y_arr = new_y_arr.reshape(-1,1)\n",
        "print(new_y_arr)\n",
        "y_scaler = preprocessing.StandardScaler()\n",
        "df['Y'] = y_scaler.fit_transform(new_y_arr)\n",
        "print(df['Y'])"
      ],
      "metadata": {
        "colab": {
          "base_uri": "https://localhost:8080/"
        },
        "id": "JNgHJj4QgF_S",
        "outputId": "7acee56c-4a91-49f6-89ce-8ecf0837a605"
      },
      "execution_count": 239,
      "outputs": [
        {
          "output_type": "stream",
          "name": "stdout",
          "text": [
            "[[-1.03229659]\n",
            " [-0.79680847]\n",
            " [-0.04709762]\n",
            " [ 1.51324793]\n",
            " [-0.04709762]\n",
            " [ 0.65147505]\n",
            " [-0.43126524]\n",
            " [-0.04709762]\n",
            " [ 2.00000756]\n",
            " [-2.24887999]\n",
            " [-0.62319122]\n",
            " [ 0.64263635]\n",
            " [ 1.45642774]\n",
            " [ 0.3888395 ]]\n",
            "0    -1.038373\n",
            "1    -0.822131\n",
            "2    -0.133692\n",
            "3     1.299131\n",
            "4    -0.133692\n",
            "5     0.507788\n",
            "7    -0.486462\n",
            "8    -0.133692\n",
            "9     1.746109\n",
            "10   -2.155528\n",
            "11   -0.662703\n",
            "13    0.499672\n",
            "14    1.246954\n",
            "15    0.266617\n",
            "Name: Y, dtype: float64\n"
          ]
        }
      ]
    },
    {
      "cell_type": "code",
      "source": [
        "sns.boxplot(df['Y'])"
      ],
      "metadata": {
        "colab": {
          "base_uri": "https://localhost:8080/",
          "height": 351
        },
        "id": "rRJBYpJcMXN0",
        "outputId": "42691b2c-fac1-4915-c1e7-466b8b197657"
      },
      "execution_count": 240,
      "outputs": [
        {
          "output_type": "stream",
          "name": "stderr",
          "text": [
            "/usr/local/lib/python3.7/dist-packages/seaborn/_decorators.py:43: FutureWarning: Pass the following variable as a keyword arg: x. From version 0.12, the only valid positional argument will be `data`, and passing other arguments without an explicit keyword will result in an error or misinterpretation.\n",
            "  FutureWarning\n"
          ]
        },
        {
          "output_type": "execute_result",
          "data": {
            "text/plain": [
              "<matplotlib.axes._subplots.AxesSubplot at 0x7feff52ae790>"
            ]
          },
          "metadata": {},
          "execution_count": 240
        },
        {
          "output_type": "display_data",
          "data": {
            "image/png": "[encoded data removed]",
            "text/plain": [
              "<Figure size 432x288 with 1 Axes>"
            ]
          },
          "metadata": {
            "needs_background": "light"
          }
        }
      ]
    },
    {
      "cell_type": "code",
      "source": [
        "df.reset_index(drop=True,inplace=True)"
      ],
      "metadata": {
        "id": "Zy-GLmw_TYDa"
      },
      "execution_count": 248,
      "outputs": []
    },
    {
      "cell_type": "code",
      "source": [
        "new_df = pd.DataFrame(data=df, columns=['X','Y'])\n",
        "sns.boxplot(x='variable', y='value', data=pd.melt(new_df))"
      ],
      "metadata": {
        "colab": {
          "base_uri": "https://localhost:8080/",
          "height": 296
        },
        "id": "akNHmYWXZpuj",
        "outputId": "5a7fddb1-79d3-4314-9d02-50b86335ea37"
      },
      "execution_count": 249,
      "outputs": [
        {
          "output_type": "execute_result",
          "data": {
            "text/plain": [
              "<matplotlib.axes._subplots.AxesSubplot at 0x7feff5727990>"
            ]
          },
          "metadata": {},
          "execution_count": 249
        },
        {
          "output_type": "display_data",
          "data": {
            "image/png": "[encoded data removed]",
            "text/plain": [
              "<Figure size 432x288 with 1 Axes>"
            ]
          },
          "metadata": {
            "needs_background": "light"
          }
        }
      ]
    },
    {
      "cell_type": "markdown",
      "source": [
        "**1.3: Category Label**"
      ],
      "metadata": {
        "id": "DVxQuf8uaVYG"
      }
    },
    {
      "cell_type": "code",
      "source": [
        "label_enc = preprocessing.LabelEncoder()\n",
        "df['Z_Category'] = label_enc.fit_transform(df['Z'])\n",
        "print(df)\n",
        "\n",
        "#print(df['Z'])"
      ],
      "metadata": {
        "id": "88hyp4kZaZAp",
        "colab": {
          "base_uri": "https://localhost:8080/"
        },
        "outputId": "50504f3a-72cb-46c4-e114-8e92ec774ea4"
      },
      "execution_count": 250,
      "outputs": [
        {
          "output_type": "stream",
          "name": "stdout",
          "text": [
            "       X         Y     Z  Z_Category  bird  cat  dog\n",
            "0   0.16 -1.038373   cat           1   0.0  1.0  0.0\n",
            "1   0.18 -0.822131   dog           2   0.0  0.0  1.0\n",
            "2   0.00 -0.133692  bird           0   1.0  0.0  0.0\n",
            "3   0.04  1.299131   cat           1   0.0  1.0  0.0\n",
            "4   0.04 -0.133692   cat           1   0.0  1.0  0.0\n",
            "5   0.18  0.507788   dog           2   0.0  0.0  1.0\n",
            "6   0.20 -0.486462  bird           0   1.0  0.0  0.0\n",
            "7   0.24 -0.133692  bird           0   0.0  1.0  0.0\n",
            "8   0.18  1.746109   cat           1   1.0  0.0  0.0\n",
            "9   0.40 -2.155528  bird           0   0.0  0.0  1.0\n",
            "10  0.72 -0.662703   dog           2   0.0  0.0  1.0\n",
            "11  0.84  0.499672   dog           2   0.0  0.0  1.0\n",
            "12  1.00  1.246954   dog           2   NaN  NaN  NaN\n",
            "13  0.18  0.266617   dog           2   NaN  NaN  NaN\n"
          ]
        }
      ]
    },
    {
      "cell_type": "code",
      "source": [
        "one_hot_enc = preprocessing.OneHotEncoder()\n",
        "df_one_hot_enc = pd.DataFrame(one_hot_enc.fit_transform(df[['Z_Category']]).toarray())\n",
        "print(df_one_hot_enc)"
      ],
      "metadata": {
        "colab": {
          "base_uri": "https://localhost:8080/"
        },
        "id": "Qv7Wj0REAvVY",
        "outputId": "27912503-f2c9-42d6-992e-88da807f7438"
      },
      "execution_count": 251,
      "outputs": [
        {
          "output_type": "stream",
          "name": "stdout",
          "text": [
            "      0    1    2\n",
            "0   0.0  1.0  0.0\n",
            "1   0.0  0.0  1.0\n",
            "2   1.0  0.0  0.0\n",
            "3   0.0  1.0  0.0\n",
            "4   0.0  1.0  0.0\n",
            "5   0.0  0.0  1.0\n",
            "6   1.0  0.0  0.0\n",
            "7   1.0  0.0  0.0\n",
            "8   0.0  1.0  0.0\n",
            "9   1.0  0.0  0.0\n",
            "10  0.0  0.0  1.0\n",
            "11  0.0  0.0  1.0\n",
            "12  0.0  0.0  1.0\n",
            "13  0.0  0.0  1.0\n"
          ]
        }
      ]
    },
    {
      "cell_type": "code",
      "source": [
        "df.reset_index(drop=True)\n",
        "df[['bird', 'cat', 'dog']] = df_one_hot_enc\n",
        "print(df)"
      ],
      "metadata": {
        "colab": {
          "base_uri": "https://localhost:8080/"
        },
        "id": "X00_1XEhERA2",
        "outputId": "67a73f46-4191-4dd0-e2c9-252cf1df41f4"
      },
      "execution_count": 252,
      "outputs": [
        {
          "output_type": "stream",
          "name": "stdout",
          "text": [
            "       X         Y     Z  Z_Category  bird  cat  dog\n",
            "0   0.16 -1.038373   cat           1   0.0  1.0  0.0\n",
            "1   0.18 -0.822131   dog           2   0.0  0.0  1.0\n",
            "2   0.00 -0.133692  bird           0   1.0  0.0  0.0\n",
            "3   0.04  1.299131   cat           1   0.0  1.0  0.0\n",
            "4   0.04 -0.133692   cat           1   0.0  1.0  0.0\n",
            "5   0.18  0.507788   dog           2   0.0  0.0  1.0\n",
            "6   0.20 -0.486462  bird           0   1.0  0.0  0.0\n",
            "7   0.24 -0.133692  bird           0   1.0  0.0  0.0\n",
            "8   0.18  1.746109   cat           1   0.0  1.0  0.0\n",
            "9   0.40 -2.155528  bird           0   1.0  0.0  0.0\n",
            "10  0.72 -0.662703   dog           2   0.0  0.0  1.0\n",
            "11  0.84  0.499672   dog           2   0.0  0.0  1.0\n",
            "12  1.00  1.246954   dog           2   0.0  0.0  1.0\n",
            "13  0.18  0.266617   dog           2   0.0  0.0  1.0\n"
          ]
        }
      ]
    }
  ]
}